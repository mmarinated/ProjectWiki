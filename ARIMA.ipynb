{
 "cells": [
  {
   "cell_type": "code",
   "execution_count": 3,
   "metadata": {
    "collapsed": true
   },
   "outputs": [],
   "source": [
    "import pandas as pd\n",
    "import numpy as np\n",
    "\n",
    "import matplotlib.pylab as plt\n",
    "%matplotlib inline\n",
    "\n",
    "plt.rcParams['figure.figsize'] = (8, 5)\n",
    "plt.rcParams[\"font.size\"] = 14\n",
    "\n",
    "import utils\n",
    "import importlib\n",
    "importlib.reload(utils)\n",
    "\n",
    "import os\n",
    "import sys\n",
    "import subprocess"
   ]
  },
  {
   "cell_type": "code",
   "execution_count": 4,
   "metadata": {
    "collapsed": true
   },
   "outputs": [],
   "source": [
    "train, test, info, index = utils.ReadData(\"debug3\")"
   ]
  },
  {
   "cell_type": "code",
   "execution_count": 5,
   "metadata": {
    "collapsed": true
   },
   "outputs": [],
   "source": [
    "val = test.values\n",
    "train_for_val = train.values"
   ]
  },
  {
   "cell_type": "code",
   "execution_count": 6,
   "metadata": {
    "collapsed": true
   },
   "outputs": [],
   "source": [
    "log_train_for_val = np.log1p(np.nan_to_num(train_for_val))"
   ]
  },
  {
   "cell_type": "code",
   "execution_count": 7,
   "metadata": {
    "collapsed": true
   },
   "outputs": [],
   "source": [
    "# restore indices of weekly seasonal, many zeros\n",
    "weekly_indices = np.load(\"../data/google_wtts/weekly_index_for_score.npy\")\n",
    "weekly_indices = np.argwhere(np.isin(index.values.reshape(-1), weekly_indices))\n",
    "\n",
    "zeros_indices = np.load(\"../data/google_wtts/zeros_index_for_score.npy\")\n",
    "zeros_indices = np.argwhere(np.isin(index.values.reshape(-1), zeros_indices))"
   ]
  },
  {
   "cell_type": "markdown",
   "metadata": {},
   "source": [
    "# Model"
   ]
  },
  {
   "cell_type": "code",
   "execution_count": 8,
   "metadata": {
    "collapsed": true,
    "scrolled": false
   },
   "outputs": [],
   "source": [
    "from statsmodels.graphics.tsaplots import plot_acf, plot_pacf\n",
    "from statsmodels.tsa.stattools import acf, pacf\n",
    "from statsmodels.tsa.arima_model import ARIMA"
   ]
  },
  {
   "cell_type": "code",
   "execution_count": 9,
   "metadata": {
    "collapsed": true
   },
   "outputs": [],
   "source": [
    "import warnings\n",
    "\n",
    "def fxn():\n",
    "    warnings.warn(\"deprecated\", DeprecationWarning)\n",
    "\n",
    "with warnings.catch_warnings():\n",
    "    warnings.simplefilter(\"ignore\")\n",
    "    fxn()"
   ]
  },
  {
   "cell_type": "code",
   "execution_count": 10,
   "metadata": {
    "collapsed": true
   },
   "outputs": [],
   "source": [
    "def ARIMA_for_row(i, lags_train=100, \n",
    "                  forecast=True, log=True, d=1, return_params=False):\n",
    "    print(\"called\")\n",
    "    if log:\n",
    "        row_train = log_train_for_val[i]\n",
    "    else:\n",
    "        row_train = train[i]\n",
    "        \n",
    "    lags = 30\n",
    "    \n",
    "    p = min((pacf(row_train, nlags=lags, alpha=0.05)[1][:, 0] > 0).sum(), \n",
    "            27)\n",
    "    q = min((acf(row_train, nlags=lags, alpha=0.05)[1][:, 0] > 0).sum(), \n",
    "            10)\n",
    "    \n",
    "    params = {\"maxiter\":70, \"tol\":5e-4}\n",
    "    model = ARIMA(row_train[-lags_train:], order=(p, d, q))\n",
    "    try: \n",
    "#         print('try1', [p,d,q])\n",
    "        model_fit = model.fit(**params)\n",
    "    except ValueError:\n",
    "        try:\n",
    "            p = 9\n",
    "            q = 2\n",
    "#             print('try2', [p,d,q])\n",
    "            model = ARIMA(row_train[-lags_train:], order=(p, d, q))\n",
    "            model_fit = model.fit(**params)\n",
    "        except ValueError:\n",
    "            try:\n",
    "                p = 7\n",
    "                q = 2\n",
    "                model = ARIMA(row_train[-lags_train:], order=(p, d, q))\n",
    "                model_fit = model.fit(**params)\n",
    "            except:\n",
    "                try:\n",
    "                    p = 2\n",
    "                    q = 2\n",
    "                    model = ARIMA(row_train[-lags_train:], order=(p, d, q))\n",
    "                    model_fit = model.fit(**params)\n",
    "                except:\n",
    "                    print('ARIMA failed')\n",
    "                    if forecast:\n",
    "                        return np.full((60,), -1)\n",
    "                    else:\n",
    "                        sync_index = - lags_train + d\n",
    "                        return np.full((lags_train + 60,), -1), sync_index, [0, 0, 0]\n",
    "\n",
    "    if forecast:\n",
    "#         print('forecast True')\n",
    "        prediction = model_fit.forecast(steps=60)[0]\n",
    "        print(i, 'prediction ready')\n",
    "        if return_params:\n",
    "            return prediction, [p, d, q]\n",
    "        else:\n",
    "            return prediction\n",
    "        \n",
    "    else:\n",
    "        if d == 1:\n",
    "            prediction = model_fit.predict(d, lags_train + 60, typ='levels')\n",
    "        else:\n",
    "            prediction = model_fit.predict(d, lags_train + 60)\n",
    "        \n",
    "        sync_index = - lags_train + d\n",
    "        if return_params:\n",
    "            return prediction, sync_index, [p, d, q]\n",
    "        else:\n",
    "            return prediction, sync_index\n",
    "\n",
    "        "
   ]
  },
  {
   "cell_type": "code",
   "execution_count": 11,
   "metadata": {
    "collapsed": true
   },
   "outputs": [],
   "source": [
    "def ARIMA_plot(row_train, idx, row_val, preds, title):\n",
    "    plt.plot(np.concatenate((row_train[idx:], row_val)), label='validation')\n",
    "    plt.vlines(row_train[idx:].shape[0], row_val.min(), row_val.max(), linestyles='--')\n",
    "    plt.plot(row_train[idx:], label='train')\n",
    "    plt.plot(preds, label='prediction')\n",
    "    plt.xlabel('days')\n",
    "    plt.ylabel('log')\n",
    "    plt.legend()\n",
    "    plt.title(title)\n",
    "    plt.show()"
   ]
  },
  {
   "cell_type": "markdown",
   "metadata": {},
   "source": [
    "# Single row"
   ]
  },
  {
   "cell_type": "code",
   "execution_count": null,
   "metadata": {},
   "outputs": [],
   "source": [
    "i = 43\n",
    "row_train = log_train_for_val[i]"
   ]
  },
  {
   "cell_type": "code",
   "execution_count": null,
   "metadata": {
    "scrolled": false
   },
   "outputs": [],
   "source": [
    "# d = 0. stationary\n",
    "preds_0, idx, pdq = ARIMA_for_row(i, forecast=False, d=0, return_params=True)\n",
    "print(pdq)"
   ]
  },
  {
   "cell_type": "code",
   "execution_count": null,
   "metadata": {
    "scrolled": true
   },
   "outputs": [],
   "source": [
    "ARIMA_plot(row_train, idx, np.log1p(np.array(test.iloc[i])), \n",
    "           preds_0, 'Index: %i \\nARIMA, p=%i, d=%i, q=%i' % (i, pdq[0], pdq[1], pdq[2]))"
   ]
  },
  {
   "cell_type": "code",
   "execution_count": null,
   "metadata": {},
   "outputs": [],
   "source": [
    "# d = 1\n",
    "preds_1, idx, pdq = ARIMA_for_row(i, forecast=False, d=1, return_params=True)\n",
    "print(pdq)"
   ]
  },
  {
   "cell_type": "code",
   "execution_count": null,
   "metadata": {
    "scrolled": false
   },
   "outputs": [],
   "source": [
    "ARIMA_plot(row_train, idx, np.log1p(np.array(test.iloc[i])), \n",
    "           preds_1, 'Index: %i \\nARIMA, p=%i, d=%i, q=%i' % (i, pdq[0], pdq[1], pdq[2]))"
   ]
  },
  {
   "cell_type": "markdown",
   "metadata": {},
   "source": [
    "# Weekly seasonal"
   ]
  },
  {
   "cell_type": "code",
   "execution_count": null,
   "metadata": {
    "scrolled": true
   },
   "outputs": [],
   "source": [
    "for i in weekly_indices[:6].ravel():\n",
    "    row_train = log_train_for_val[i]\n",
    "\n",
    "    # d = 0. stationary\n",
    "    preds_0, idx, pdq = ARIMA_for_row(i, forecast=False, d=0, return_params=True)\n",
    "    if preds_1[0] != -1:\n",
    "        ARIMA_plot(row_train, idx, np.log1p(np.array(test.iloc[i])), \n",
    "                   preds_0, 'Index: %i \\nARIMA for weekly seasonal data, p=%i, d=%i, q=%i' % (i, pdq[0], pdq[1], pdq[2]))\n",
    "\n",
    "    # d = 1\n",
    "    preds_1, idx, pdq = ARIMA_for_row(i, forecast=False, d=1, return_params=True)\n",
    "    if preds_1[0] != -1:\n",
    "        ARIMA_plot(row_train, idx, np.log1p(np.array(test.iloc[i])), \n",
    "                   preds_1, 'Index: %i \\nARIMA for weekly seasonal data, p=%i, d=%i, q=%i' % (i, pdq[0], pdq[1], pdq[2]))"
   ]
  },
  {
   "cell_type": "markdown",
   "metadata": {},
   "source": [
    "# Parallel"
   ]
  },
  {
   "cell_type": "code",
   "execution_count": 27,
   "metadata": {},
   "outputs": [
    {
     "data": {
      "text/plain": [
       "(200, 1)"
      ]
     },
     "execution_count": 27,
     "metadata": {},
     "output_type": "execute_result"
    }
   ],
   "source": [
    "zeros_indices.shape"
   ]
  },
  {
   "cell_type": "code",
   "execution_count": 12,
   "metadata": {
    "collapsed": true
   },
   "outputs": [],
   "source": [
    "from joblib import Parallel, delayed"
   ]
  },
  {
   "cell_type": "code",
   "execution_count": 28,
   "metadata": {
    "scrolled": true
   },
   "outputs": [
    {
     "name": "stdout",
     "output_type": "stream",
     "text": [
      "called\n",
      "called\n",
      "called\n",
      "called\n",
      "called\n",
      "called\n",
      "called\n",
      "called\n",
      "called\n",
      "called\n",
      "178 prediction ready\n",
      "called\n",
      "182 prediction ready\n",
      "called\n",
      "187 prediction ready\n",
      "called\n",
      "31 prediction ready\n",
      "called\n",
      "34 prediction ready\n",
      "called\n",
      "177 prediction ready\n",
      "called\n",
      "132 prediction ready\n",
      "called\n",
      "188 prediction ready\n",
      "called\n",
      "197 prediction ready\n",
      "called\n",
      "198 prediction ready\n",
      "called\n",
      "194 prediction ready\n",
      "195 prediction ready\n",
      "192 prediction ready\n",
      "191 prediction ready\n",
      "196 prediction ready\n",
      "199 prediction ready\n",
      "200 prediction ready\n",
      "190 prediction ready\n",
      "143 prediction ready\n",
      "33 prediction ready\n",
      "end\n",
      "CPU times: user 160 ms, sys: 76 ms, total: 236 ms\n",
      "Wall time: 2min 31s\n"
     ]
    }
   ],
   "source": [
    "%%time\n",
    "predictions_0 = Parallel(n_jobs=10, max_nbytes=None)(\n",
    "    delayed(ARIMA_for_row)(k, d=0) \n",
    "    for k in range(2000)\n",
    ")\n",
    "print('end')\n",
    "predictions_0 = np.array(predictions_0)"
   ]
  },
  {
   "cell_type": "code",
   "execution_count": 29,
   "metadata": {
    "collapsed": true
   },
   "outputs": [],
   "source": [
    "predictions_0 = utils.from_log_and_correction(predictions_0) "
   ]
  },
  {
   "cell_type": "code",
   "execution_count": null,
   "metadata": {},
   "outputs": [],
   "source": [
    "utils.total_time(40, 10) * 10"
   ]
  },
  {
   "cell_type": "code",
   "execution_count": 31,
   "metadata": {},
   "outputs": [
    {
     "name": "stdout",
     "output_type": "stream",
     "text": [
      "SMAPE:  96.68639\n"
     ]
    }
   ],
   "source": [
    "x = utils.SMAPE_score(test.values, predictions_0)"
   ]
  },
  {
   "cell_type": "code",
   "execution_count": null,
   "metadata": {
    "scrolled": true
   },
   "outputs": [],
   "source": [
    "utils.SaveModel(\"arima_d_0\",\n",
    "                predictions_0, test,\n",
    "                \"4833 hours\", \"no transformation\",\n",
    "                index.values.reshape(-1))\n",
    "# SMAPE:  56.118244"
   ]
  },
  {
   "cell_type": "code",
   "execution_count": 36,
   "metadata": {
    "scrolled": true
   },
   "outputs": [
    {
     "name": "stdout",
     "output_type": "stream",
     "text": [
      "called\n",
      "called\n",
      "called\n",
      "called\n",
      "called\n",
      "called\n",
      "called\n",
      "called\n",
      "called\n",
      "called\n",
      "177 prediction ready\n",
      "called\n",
      "132 prediction ready\n",
      "called\n",
      "178 prediction ready\n",
      "called\n",
      "34 prediction ready\n",
      "called\n",
      "143 prediction ready\n",
      "called\n",
      "33 prediction ready\n",
      "called\n",
      "31 prediction ready\n",
      "called\n",
      "197 prediction ready\n",
      "called\n",
      "187 prediction ready\n",
      "called\n",
      "182 prediction ready\n",
      "called\n",
      "195 prediction ready\n",
      "188 prediction ready\n",
      "191 prediction ready\n",
      "192 prediction ready\n",
      "196 prediction ready\n",
      "194 prediction ready\n",
      "199 prediction ready\n",
      "200 prediction ready\n",
      "198 prediction ready\n",
      "190 prediction ready\n",
      "end\n",
      "CPU times: user 136 ms, sys: 80 ms, total: 216 ms\n",
      "Wall time: 1min 56s\n"
     ]
    }
   ],
   "source": [
    "%%time\n",
    "predictions_1 = Parallel(n_jobs=10, max_nbytes=None)(\n",
    "    delayed(ARIMA_for_row)(k, d=1) \n",
    "    for k in zeros_indices[:20].ravel()\n",
    ")\n",
    "print('end')\n",
    "predictions_1 = np.array(predictions_1)"
   ]
  },
  {
   "cell_type": "code",
   "execution_count": 37,
   "metadata": {
    "collapsed": true
   },
   "outputs": [],
   "source": [
    "predictions_1 = utils.from_log_and_correction(predictions_1) "
   ]
  },
  {
   "cell_type": "code",
   "execution_count": 38,
   "metadata": {},
   "outputs": [
    {
     "name": "stdout",
     "output_type": "stream",
     "text": [
      "SMAPE:  87.88188\n"
     ]
    }
   ],
   "source": [
    "x = utils.SMAPE_score(test.iloc[zeros_indices[:20].ravel()].values, predictions_1)"
   ]
  },
  {
   "cell_type": "code",
   "execution_count": null,
   "metadata": {
    "collapsed": true
   },
   "outputs": [],
   "source": []
  },
  {
   "cell_type": "code",
   "execution_count": null,
   "metadata": {
    "collapsed": true
   },
   "outputs": [],
   "source": []
  },
  {
   "cell_type": "code",
   "execution_count": null,
   "metadata": {
    "collapsed": true
   },
   "outputs": [],
   "source": [
    "utils.SaveModel(\"arima_d_1\",\n",
    "                predictions_1, test,\n",
    "                \"2900 hours\", \"no transformation\",\n",
    "                index.values.reshape(-1))\n",
    "# SMAPE:  50.363083"
   ]
  },
  {
   "cell_type": "code",
   "execution_count": 13,
   "metadata": {},
   "outputs": [
    {
     "data": {
      "text/plain": [
       "2900.0"
      ]
     },
     "execution_count": 13,
     "metadata": {},
     "output_type": "execute_result"
    }
   ],
   "source": [
    "utils.total_time(24, 10) * 10"
   ]
  },
  {
   "cell_type": "code",
   "execution_count": 14,
   "metadata": {},
   "outputs": [
    {
     "name": "stdout",
     "output_type": "stream",
     "text": [
      "SMAPE:  50.363083\n"
     ]
    }
   ],
   "source": [
    "x = utils.SMAPE_score(test[:200], predictions_1)"
   ]
  },
  {
   "cell_type": "code",
   "execution_count": null,
   "metadata": {
    "collapsed": true
   },
   "outputs": [],
   "source": []
  }
 ],
 "metadata": {
  "kernelspec": {
   "display_name": "Python 3",
   "language": "python",
   "name": "python3"
  },
  "language_info": {
   "codemirror_mode": {
    "name": "ipython",
    "version": 3
   },
   "file_extension": ".py",
   "mimetype": "text/x-python",
   "name": "python",
   "nbconvert_exporter": "python",
   "pygments_lexer": "ipython3",
   "version": "3.6.2"
  }
 },
 "nbformat": 4,
 "nbformat_minor": 2
}
