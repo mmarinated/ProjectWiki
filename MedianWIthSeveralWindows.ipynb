{
 "cells": [
  {
   "cell_type": "code",
   "execution_count": 14,
   "metadata": {
    "collapsed": true
   },
   "outputs": [],
   "source": [
    "import numpy as np\n",
    "import pandas as pd "
   ]
  },
  {
   "cell_type": "code",
   "execution_count": 16,
   "metadata": {
    "collapsed": true
   },
   "outputs": [],
   "source": [
    "import utils"
   ]
  },
  {
   "cell_type": "code",
   "execution_count": 17,
   "metadata": {},
   "outputs": [],
   "source": [
    "train, test, info, index = utils.ReadData(\"train_big\")"
   ]
  },
  {
   "cell_type": "code",
   "execution_count": 18,
   "metadata": {
    "collapsed": true
   },
   "outputs": [],
   "source": [
    "\n",
    "\n",
    "# I'm gong to share a solution that I found interesting with you.\n",
    "# The idea is to compute the median of the series in different window sizes at the end of the series,\n",
    "# and the window sizes are increasing exponentially with the base of golden ratio.\n",
    "# Then a median of these medians is taken as the estimate for the next 60 days.\n",
    "# This code's result has the score of around 44.9 on public leaderboard, but I could get upto 44.7 by playing with it.\n",
    "\n",
    "# r = 1.61803398875\n",
    "# Windows = np.round(r**np.arange(0,9) * 7)\n",
    "Windows = [6, 12, 18, 30, 48, 78, 126, 203, 329]"
   ]
  },
  {
   "cell_type": "code",
   "execution_count": 19,
   "metadata": {
    "collapsed": true
   },
   "outputs": [],
   "source": [
    "from tqdm import tqdm"
   ]
  },
  {
   "cell_type": "code",
   "execution_count": 20,
   "metadata": {},
   "outputs": [
    {
     "name": "stderr",
     "output_type": "stream",
     "text": [
      "  0%|          | 1/145063 [00:01<54:00:30,  1.34s/it]/home/shirobokov/.local/lib/python3.6/site-packages/numpy/lib/function_base.py:3250: RuntimeWarning: Invalid value encountered in median\n",
      "  r = func(a, **kwargs)\n",
      "100%|██████████| 145063/145063 [03:51<00:00, 627.12it/s]\n",
      "/opt/conda/anaconda3/lib/python3.6/site-packages/ipykernel_launcher.py:18: RuntimeWarning: invalid value encountered in less\n"
     ]
    }
   ],
   "source": [
    "n = train.shape[1] - 1 #  550\n",
    "Visits = np.zeros(train.shape[0])\n",
    "\n",
    "for i, row in tqdm(train.iterrows(), total=train.shape[0]):\n",
    "    M = []\n",
    "    start = row[1:].nonzero()[0]\n",
    "    if len(start) == 0:\n",
    "        continue\n",
    "    if n - start[0] < Windows[0]:\n",
    "        Visits[i] = row.iloc[start[0]+1:].median()\n",
    "        continue\n",
    "    for W in Windows:\n",
    "        if W > n-start[0]:\n",
    "            break\n",
    "        M.append(row.iloc[-W:].median())\n",
    "    Visits[i] = np.median(M)\n",
    "\n",
    "Visits[np.where(Visits < 1)] = 0.\n",
    "train['Visits'] = Visits"
   ]
  },
  {
   "cell_type": "code",
   "execution_count": 25,
   "metadata": {},
   "outputs": [],
   "source": [
    "y_pred = np.tile(train['Visits'].values, (60, 1)).T"
   ]
  },
  {
   "cell_type": "code",
   "execution_count": 27,
   "metadata": {
    "collapsed": true
   },
   "outputs": [],
   "source": [
    "y_pred = np.nan_to_num(y_pred)"
   ]
  },
  {
   "cell_type": "code",
   "execution_count": 29,
   "metadata": {},
   "outputs": [
    {
     "name": "stdout",
     "output_type": "stream",
     "text": [
      "39.818916\n"
     ]
    },
    {
     "data": {
      "text/plain": [
       "array([32.874947, 38.364967, 59.185104, ..., 84.70818 , 67.58499 ,\n",
       "       69.719925], dtype=float32)"
      ]
     },
     "execution_count": 29,
     "metadata": {},
     "output_type": "execute_result"
    }
   ],
   "source": [
    "utils.SMAPE_score(test, y_pred, print_mean=True)"
   ]
  },
  {
   "cell_type": "code",
   "execution_count": null,
   "metadata": {
    "collapsed": true
   },
   "outputs": [],
   "source": []
  },
  {
   "cell_type": "code",
   "execution_count": 30,
   "metadata": {},
   "outputs": [
    {
     "name": "stdout",
     "output_type": "stream",
     "text": [
      "39.818916\n"
     ]
    }
   ],
   "source": [
    "utils.SaveModel(\"fibonachi_medians\",\n",
    "                y_pred, test,\n",
    "                240, \"fill with zeros\",\n",
    "                index.values.reshape(-1))"
   ]
  },
  {
   "cell_type": "code",
   "execution_count": null,
   "metadata": {
    "collapsed": true
   },
   "outputs": [],
   "source": []
  }
 ],
 "metadata": {
  "kernelspec": {
   "display_name": "Python 3",
   "language": "python",
   "name": "python3"
  },
  "language_info": {
   "codemirror_mode": {
    "name": "ipython",
    "version": 3
   },
   "file_extension": ".py",
   "mimetype": "text/x-python",
   "name": "python",
   "nbconvert_exporter": "python",
   "pygments_lexer": "ipython3",
   "version": "3.6.2"
  }
 },
 "nbformat": 4,
 "nbformat_minor": 2
}
