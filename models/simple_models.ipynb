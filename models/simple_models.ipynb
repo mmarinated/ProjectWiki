{
 "cells": [
  {
   "cell_type": "code",
   "execution_count": 18,
   "metadata": {
    "collapsed": true
   },
   "outputs": [],
   "source": [
    "import pandas as pd\n",
    "import numpy as np\n",
    "\n",
    "import matplotlib.pylab as plt\n",
    "%matplotlib inline\n",
    "\n",
    "plt.rcParams['figure.figsize'] = (10, 6)\n",
    "\n",
    "import utils\n",
    "\n",
    "import importlib\n",
    "importlib.reload(utils)\n",
    "\n",
    "import os\n",
    "import sys\n",
    "import subprocess"
   ]
  },
  {
   "cell_type": "code",
   "execution_count": 19,
   "metadata": {
    "collapsed": true
   },
   "outputs": [],
   "source": [
    "train, test, info, index = utils.ReadData(\"debug3\")"
   ]
  },
  {
   "cell_type": "code",
   "execution_count": 20,
   "metadata": {},
   "outputs": [
    {
     "data": {
      "text/plain": [
       "(2000, 743)"
      ]
     },
     "execution_count": 20,
     "metadata": {},
     "output_type": "execute_result"
    }
   ],
   "source": [
    "train.shape"
   ]
  },
  {
   "cell_type": "code",
   "execution_count": 21,
   "metadata": {
    "collapsed": true
   },
   "outputs": [],
   "source": [
    "# val = train.values[:, -60:]\n",
    "# train_for_val = train.values[:, :-60]\n",
    "\n",
    "val = test.values\n",
    "train_for_val = train"
   ]
  },
  {
   "cell_type": "markdown",
   "metadata": {},
   "source": [
    "## different mean"
   ]
  },
  {
   "cell_type": "code",
   "execution_count": 7,
   "metadata": {
    "collapsed": true
   },
   "outputs": [],
   "source": [
    "last_elements = [1,2,3,4,5,6,7,8,9,10,20,30,50,100,200,300,400,500]\n",
    "scores = []\n",
    "for i in last_elements:\n",
    "    y_pred = np.tile(np.nanmean(train_for_val[:, -i:], axis=1), (60, 1)).T\n",
    "    y_pred = np.nan_to_num(y_pred)\n",
    "#     print(np.isnan(y_pred).sum())\n",
    "    \n",
    "    scores.append(np.nanmean(utils.SMAPE_score(val, y_pred, print_mean=False)))"
   ]
  },
  {
   "cell_type": "code",
   "execution_count": 8,
   "metadata": {},
   "outputs": [
    {
     "data": {
      "text/plain": [
       "[<matplotlib.lines.Line2D at 0x7f4e4f0e9c18>]"
      ]
     },
     "execution_count": 8,
     "metadata": {},
     "output_type": "execute_result"
    },
    {
     "data": {
      "image/png": "[encoded data removed]",
      "text/plain": [
       "<matplotlib.figure.Figure at 0x7f4e511964e0>"
      ]
     },
     "metadata": {},
     "output_type": "display_data"
    }
   ],
   "source": [
    "last_elements = np.array(last_elements)\n",
    "scores = np.array(scores)\n",
    "plt.xscale('log')\n",
    "plt.plot(last_elements, scores)"
   ]
  },
  {
   "cell_type": "code",
   "execution_count": 9,
   "metadata": {},
   "outputs": [
    {
     "data": {
      "text/plain": [
       "42.751324"
      ]
     },
     "execution_count": 9,
     "metadata": {},
     "output_type": "execute_result"
    }
   ],
   "source": [
    "np.min(scores)"
   ]
  },
  {
   "cell_type": "code",
   "execution_count": 10,
   "metadata": {},
   "outputs": [
    {
     "data": {
      "text/plain": [
       "4"
      ]
     },
     "execution_count": 10,
     "metadata": {},
     "output_type": "execute_result"
    }
   ],
   "source": [
    "last_elements[np.argmin(scores)]"
   ]
  },
  {
   "cell_type": "code",
   "execution_count": 56,
   "metadata": {},
   "outputs": [
    {
     "name": "stdout",
     "output_type": "stream",
     "text": [
      "CPU times: user 8 ms, sys: 0 ns, total: 8 ms\n",
      "Wall time: 10.8 ms\n"
     ]
    }
   ],
   "source": [
    "%%time\n",
    "y_pred = np.tile(np.nanmean(train.values[:, -4:], axis=1), (60, 1)).T"
   ]
  },
  {
   "cell_type": "code",
   "execution_count": 57,
   "metadata": {
    "collapsed": true
   },
   "outputs": [],
   "source": [
    "y_pred = np.nan_to_num(y_pred)\n",
    "y_pred = np.round(y_pred)"
   ]
  },
  {
   "cell_type": "code",
   "execution_count": 58,
   "metadata": {
    "collapsed": true
   },
   "outputs": [],
   "source": [
    "utils.SaveModel(\"nanmean_on_last_4\",\n",
    "                y_pred, test,\n",
    "                0.009, \"no transformation\",\n",
    "                index.values.reshape(-1))"
   ]
  },
  {
   "cell_type": "code",
   "execution_count": 1,
   "metadata": {},
   "outputs": [],
   "source": [
    "# pd.read_csv(\"../data/google_wtts/models/info.csv\")"
   ]
  },
  {
   "cell_type": "markdown",
   "metadata": {},
   "source": [
    "## Median"
   ]
  },
  {
   "cell_type": "code",
   "execution_count": 21,
   "metadata": {
    "collapsed": true
   },
   "outputs": [],
   "source": [
    "last_elements = list(range(1, 51, 5)) + [100,200,300,400,500]\n",
    "scores = []\n",
    "for i in last_elements:\n",
    "    y_pred = np.tile(np.nanmedian(train_for_val[:, -i:], axis=1), (60, 1)).T\n",
    "    y_pred = np.nan_to_num(y_pred)\n",
    "#     print(np.isnan(y_pred).sum())\n",
    "    \n",
    "    scores.append(np.nanmean(utils.SMAPE_score(val, y_pred, print_mean=False)))"
   ]
  },
  {
   "cell_type": "code",
   "execution_count": 22,
   "metadata": {},
   "outputs": [
    {
     "data": {
      "text/plain": [
       "[<matplotlib.lines.Line2D at 0x7f4eb58d4080>]"
      ]
     },
     "execution_count": 22,
     "metadata": {},
     "output_type": "execute_result"
    },
    {
     "data": {
      "image/png": "[encoded data removed]",
      "text/plain": [
       "<matplotlib.figure.Figure at 0x7f4e4f0699e8>"
      ]
     },
     "metadata": {},
     "output_type": "display_data"
    }
   ],
   "source": [
    "last_elements = np.array(last_elements)\n",
    "scores = np.array(scores)\n",
    "plt.xscale('log')\n",
    "plt.plot(last_elements, scores)"
   ]
  },
  {
   "cell_type": "code",
   "execution_count": 23,
   "metadata": {},
   "outputs": [
    {
     "data": {
      "text/plain": [
       "39.685757"
      ]
     },
     "execution_count": 23,
     "metadata": {},
     "output_type": "execute_result"
    }
   ],
   "source": [
    "np.min(scores)"
   ]
  },
  {
   "cell_type": "code",
   "execution_count": 24,
   "metadata": {},
   "outputs": [
    {
     "data": {
      "text/plain": [
       "16"
      ]
     },
     "execution_count": 24,
     "metadata": {},
     "output_type": "execute_result"
    }
   ],
   "source": [
    "last_elements[np.argmin(scores)]"
   ]
  },
  {
   "cell_type": "code",
   "execution_count": 60,
   "metadata": {},
   "outputs": [
    {
     "name": "stdout",
     "output_type": "stream",
     "text": [
      "CPU times: user 212 ms, sys: 68 ms, total: 280 ms\n",
      "Wall time: 1.04 s\n"
     ]
    }
   ],
   "source": [
    "%%time\n",
    "y_pred = np.tile(np.nanmedian(train.values[:, -last_elements[np.argmin(scores)]:], axis=1), (60, 1)).T"
   ]
  },
  {
   "cell_type": "code",
   "execution_count": 61,
   "metadata": {
    "collapsed": true
   },
   "outputs": [],
   "source": [
    "y_pred = np.nan_to_num(y_pred)\n",
    "y_pred = np.round(y_pred)"
   ]
  },
  {
   "cell_type": "code",
   "execution_count": 62,
   "metadata": {
    "collapsed": true
   },
   "outputs": [],
   "source": [
    "utils.SaveModel(\"nanmedian_on_last_16\",\n",
    "                y_pred, test,\n",
    "                0.04, \"no transformation\",\n",
    "                index.values.reshape(-1))"
   ]
  },
  {
   "cell_type": "markdown",
   "metadata": {},
   "source": [
    "## weighted_median"
   ]
  },
  {
   "cell_type": "code",
   "execution_count": 22,
   "metadata": {
    "collapsed": true
   },
   "outputs": [],
   "source": [
    "def weighted_median(x, w=None):\n",
    "    if w is None:\n",
    "        w = np.ones_like(x)\n",
    "    \n",
    "    if x.ndim == 1:\n",
    "        raise Exception(\"Pass 2-dimensional array. Use .reshape(1, -1)\")\n",
    "            \n",
    "    assert(x.ndim == 2)\n",
    "    assert(x.shape[-1] == w.shape[-1])\n",
    "    \n",
    "    if w.shape != x.shape:\n",
    "        w = np.tile(w, (x.shape[0], 1))\n",
    "\n",
    "    assert(w.shape == x.shape)\n",
    "    \n",
    "    \n",
    "    #sorting x and w\n",
    "    x_argsort = np.argsort(x)\n",
    "    x = np.take_along_axis(x, x_argsort, axis=-1)\n",
    "    w = np.take_along_axis(w, x_argsort, axis=-1)\n",
    "    \n",
    "    \n",
    "    # now we want to look for 0.5...\n",
    "    w = np.cumsum(w, axis=-1)\n",
    "    w = (w.T / w[:, -1].T).T\n",
    "    \n",
    "    # this one is slow\n",
    "    indices = np.array([\n",
    "        np.searchsorted(w[i], 0.5, side='right') \n",
    "        for i in range(w.shape[0])\n",
    "    ]).reshape((x.shape[0], 1))\n",
    "    \n",
    "    # finally take medians\n",
    "    return np.take_along_axis(x, indices=indices, axis=1).reshape(1, -1)[0]\n",
    "\n",
    "\n",
    "def create_exp_decay(n, last, q):\n",
    "    w = np.zeros(n)\n",
    "    w[-1] = last\n",
    "    for i in range(len(w) - 2, -1, -1):\n",
    "        w[i] = w[i+1] * q\n",
    "        \n",
    "    return w"
   ]
  },
  {
   "cell_type": "code",
   "execution_count": 23,
   "metadata": {
    "collapsed": true
   },
   "outputs": [],
   "source": [
    "w = create_exp_decay(train_for_val.shape[1], 100, 0.999)"
   ]
  },
  {
   "cell_type": "code",
   "execution_count": 29,
   "metadata": {
    "collapsed": true,
    "scrolled": true
   },
   "outputs": [],
   "source": [
    "predictions = weighted_median(train_for_val.values, w)"
   ]
  },
  {
   "cell_type": "code",
   "execution_count": 33,
   "metadata": {},
   "outputs": [
    {
     "data": {
      "text/plain": [
       "(2000,)"
      ]
     },
     "execution_count": 33,
     "metadata": {},
     "output_type": "execute_result"
    }
   ],
   "source": [
    "predictions.shape"
   ]
  },
  {
   "cell_type": "code",
   "execution_count": 34,
   "metadata": {
    "collapsed": true
   },
   "outputs": [],
   "source": [
    "predictions = np.tile(predictions.T, (60, 1)).T"
   ]
  },
  {
   "cell_type": "code",
   "execution_count": 35,
   "metadata": {},
   "outputs": [
    {
     "data": {
      "text/plain": [
       "(2000, 60)"
      ]
     },
     "execution_count": 35,
     "metadata": {},
     "output_type": "execute_result"
    }
   ],
   "source": [
    "predictions.shape"
   ]
  },
  {
   "cell_type": "code",
   "execution_count": 38,
   "metadata": {
    "collapsed": true
   },
   "outputs": [],
   "source": [
    "k = 8"
   ]
  },
  {
   "cell_type": "code",
   "execution_count": null,
   "metadata": {
    "collapsed": true
   },
   "outputs": [],
   "source": [
    "x_train = x_train[-lags:]\n",
    "y_train = y_train[-lags:]\n",
    "y_val = correction(y_val)\n",
    "#     y_val = np.expm1(y_val)\n",
    "\n",
    "plt.vlines(n, ymin=4, ymax=7, linestyles='--')\n",
    "plt.plot(np.concatenate((x_train, x_val)),\n",
    "         np.concatenate((log_train_for_val[i][-lags:], np.log1p(val[i]))))\n",
    "plt.plot(x_train, y_train)\n",
    "plt.plot(x_val, y_val, label='prediction')\n",
    "plt.xlabel('days')\n",
    "plt.ylabel('log')\n",
    "plt.legend()\n",
    "plt.title('Kalman filter with seasonality (no learn)')\n",
    "plt.show()"
   ]
  },
  {
   "cell_type": "code",
   "execution_count": 45,
   "metadata": {},
   "outputs": [
    {
     "name": "stdout",
     "output_type": "stream",
     "text": [
      "SMAPE:  39.646408\n",
      "SMAPE:  39.49782\n",
      "SMAPE:  39.37607\n",
      "SMAPE:  39.302227\n",
      "SMAPE:  39.176323\n",
      "SMAPE:  39.132717\n",
      "SMAPE:  39.24933\n"
     ]
    }
   ],
   "source": [
    "alpha = [0.8, 0.83, 0.85, 0.87, 0.9, 0.92, 0.95,] #0.975, 0.99, 0.992, 0.994, 0.996, 0.999, 1\n",
    "scores = []\n",
    "for i in alpha:\n",
    "    w = create_exp_decay(train_for_val.shape[1], 100, i)\n",
    "    y_pred = weighted_median(train_for_val, w)\n",
    "    y_pred = np.tile(y_pred, (60, 1)).T\n",
    "    \n",
    "    scores.append(np.nanmean(utils.SMAPE_score(val, y_pred, print_mean=True)))"
   ]
  },
  {
   "cell_type": "code",
   "execution_count": 46,
   "metadata": {},
   "outputs": [
    {
     "data": {
      "text/plain": [
       "[<matplotlib.lines.Line2D at 0x7f4eb57ae390>]"
      ]
     },
     "execution_count": 46,
     "metadata": {},
     "output_type": "execute_result"
    },
    {
     "data": {
      "image/png": "[encoded data removed]",
      "text/plain": [
       "<matplotlib.figure.Figure at 0x7f4eb57d81d0>"
      ]
     },
     "metadata": {},
     "output_type": "display_data"
    }
   ],
   "source": [
    "alpha = np.array(alpha)\n",
    "scores = np.array(scores)\n",
    "# plt.xscale('log')\n",
    "plt.plot(alpha, scores)"
   ]
  },
  {
   "cell_type": "code",
   "execution_count": 63,
   "metadata": {
    "collapsed": true
   },
   "outputs": [],
   "source": [
    "w = create_exp_decay(train.shape[1], 100, 0.92)"
   ]
  },
  {
   "cell_type": "code",
   "execution_count": 64,
   "metadata": {
    "collapsed": true
   },
   "outputs": [],
   "source": [
    "#plt.plot(w[-100:])"
   ]
  },
  {
   "cell_type": "code",
   "execution_count": 65,
   "metadata": {},
   "outputs": [
    {
     "name": "stdout",
     "output_type": "stream",
     "text": [
      "CPU times: user 9.32 s, sys: 3.12 s, total: 12.4 s\n",
      "Wall time: 1min 5s\n"
     ]
    }
   ],
   "source": [
    "w = create_exp_decay(train.shape[1], 100, 0.92)\n",
    "%%time\n",
    "y_pred = weighted_median(np.nan_to_num(train), w)"
   ]
  },
  {
   "cell_type": "code",
   "execution_count": 66,
   "metadata": {
    "collapsed": true
   },
   "outputs": [],
   "source": [
    "y_pred = np.tile(y_pred, (60, 1)).T\n",
    "y_pred = np.nan_to_num(y_pred)\n",
    "y_pred = np.round(y_pred)"
   ]
  },
  {
   "cell_type": "code",
   "execution_count": 67,
   "metadata": {
    "collapsed": true
   },
   "outputs": [],
   "source": [
    "utils.SaveModel(\"weighted_median_092_decay\",\n",
    "                y_pred, test,\n",
    "                10, \"no transformation\",\n",
    "                index.values.reshape(-1))"
   ]
  },
  {
   "cell_type": "markdown",
   "metadata": {},
   "source": [
    "## Last elem"
   ]
  },
  {
   "cell_type": "code",
   "execution_count": 68,
   "metadata": {
    "collapsed": true
   },
   "outputs": [],
   "source": [
    "y_pred = train.values[:, -1]\n",
    "y_pred = np.tile(y_pred, (60, 1)).T\n",
    "y_pred = np.nan_to_num(y_pred)"
   ]
  },
  {
   "cell_type": "code",
   "execution_count": 69,
   "metadata": {
    "collapsed": true
   },
   "outputs": [],
   "source": [
    "utils.SaveModel(\"last_elem\",\n",
    "                y_pred, test,\n",
    "                0, \"no transformation\",\n",
    "                index.values.reshape(-1))"
   ]
  },
  {
   "cell_type": "markdown",
   "metadata": {},
   "source": [
    "## median with day of the weeks "
   ]
  },
  {
   "cell_type": "code",
   "execution_count": 70,
   "metadata": {
    "collapsed": true
   },
   "outputs": [],
   "source": [
    "def median_for_each_day(train_df, last_weeks):\n",
    "    start = (train_df.shape[1] % 7)\n",
    "    train_df = np.nan_to_num(train_df)\n",
    "    seven_days = []\n",
    "    for i in range(7):\n",
    "        seven_days.append(np.median(train_df[:, (start+i)::7][:, -last_weeks:], axis=1))\n",
    "\n",
    "    seven_days = np.array(seven_days)\n",
    "    seven_days = np.tile(seven_days, (9, 1)).T\n",
    "    seven_days = seven_days[:, :60]\n",
    "\n",
    "    return seven_days"
   ]
  },
  {
   "cell_type": "code",
   "execution_count": 71,
   "metadata": {
    "collapsed": true
   },
   "outputs": [],
   "source": [
    "last_elements = [1,2,3,4,5,6,7,8,9,10]\n",
    "scores = []\n",
    "for i in last_elements:\n",
    "    y_pred = median_for_each_day(train_for_val, i)\n",
    "    y_pred = np.nan_to_num(y_pred)\n",
    "    scores.append(np.nanmean(utils.SMAPE_score(val, y_pred, print_mean=False)))"
   ]
  },
  {
   "cell_type": "code",
   "execution_count": 75,
   "metadata": {
    "collapsed": true
   },
   "outputs": [],
   "source": [
    "scores = np.array(scores)"
   ]
  },
  {
   "cell_type": "code",
   "execution_count": 76,
   "metadata": {},
   "outputs": [
    {
     "name": "stdout",
     "output_type": "stream",
     "text": [
      "CPU times: user 744 ms, sys: 584 ms, total: 1.33 s\n",
      "Wall time: 5.81 s\n"
     ]
    }
   ],
   "source": [
    "%%time\n",
    "y_pred = median_for_each_day(train, last_elements[np.argmin(scores)])"
   ]
  },
  {
   "cell_type": "code",
   "execution_count": 77,
   "metadata": {
    "collapsed": true
   },
   "outputs": [],
   "source": [
    "y_pred = np.nan_to_num(y_pred)\n",
    "y_pred = np.round(y_pred)"
   ]
  },
  {
   "cell_type": "code",
   "execution_count": 78,
   "metadata": {
    "collapsed": true
   },
   "outputs": [],
   "source": [
    "utils.SaveModel(\"median_daily_last_7_weeks\",\n",
    "                y_pred, test,\n",
    "                1.2, \n",
    "                \"no transformation\",\n",
    "                index.values.reshape(-1))"
   ]
  },
  {
   "cell_type": "markdown",
   "metadata": {},
   "source": [
    "## weighted median with days of week"
   ]
  },
  {
   "cell_type": "code",
   "execution_count": 79,
   "metadata": {
    "collapsed": true
   },
   "outputs": [],
   "source": [
    "start = (train_for_val.shape[1] % 7)\n",
    "train_df = np.nan_to_num(train_for_val)\n",
    "seven_days = []"
   ]
  },
  {
   "cell_type": "code",
   "execution_count": 80,
   "metadata": {
    "collapsed": true
   },
   "outputs": [],
   "source": [
    "def median_for_each_day_weighted(train_df, alpha):\n",
    "    start = (train_df.shape[1] % 7)\n",
    "    train_df = np.nan_to_num(train_df)\n",
    "    seven_days = []\n",
    "    \n",
    "    \n",
    "    for i in range(7):\n",
    "        cur_train  = train_df[:, (start+i)::7]\n",
    "        w = create_exp_decay(cur_train.shape[1], 100, alpha)\n",
    "        y_pred = weighted_median(cur_train, w)\n",
    "        seven_days.append(y_pred)\n",
    "\n",
    "\n",
    "    seven_days = np.array(seven_days)\n",
    "    seven_days = np.tile(seven_days, (9, 1)).T\n",
    "    seven_days = seven_days[:, :60]\n",
    "\n",
    "    return seven_days"
   ]
  },
  {
   "cell_type": "code",
   "execution_count": 81,
   "metadata": {
    "collapsed": true
   },
   "outputs": [],
   "source": [
    "last_elements = [0.8, 0.85, 0.9, 0.92, 0.95, 0.97]\n",
    "scores = []\n",
    "for i in last_elements:\n",
    "    y_pred = median_for_each_day_weighted(train_for_val, i)\n",
    "    y_pred = np.nan_to_num(y_pred)\n",
    "    \n",
    "    scores.append(np.nanmean(utils.SMAPE_score(val, y_pred, print_mean=False)))"
   ]
  },
  {
   "cell_type": "code",
   "execution_count": null,
   "metadata": {
    "collapsed": true
   },
   "outputs": [],
   "source": []
  },
  {
   "cell_type": "code",
   "execution_count": 82,
   "metadata": {},
   "outputs": [
    {
     "data": {
      "text/plain": [
       "[39.70568, 39.815113, 40.220356, 40.521564, 41.217945, 42.483223]"
      ]
     },
     "execution_count": 82,
     "metadata": {},
     "output_type": "execute_result"
    }
   ],
   "source": [
    "scores"
   ]
  },
  {
   "cell_type": "code",
   "execution_count": 85,
   "metadata": {
    "collapsed": true
   },
   "outputs": [],
   "source": [
    "last_elements = [0.75, 0.78, 0.82, 0.84]\n",
    "scores = []\n",
    "for i in last_elements:\n",
    "    y_pred = median_for_each_day_weighted(train_for_val, i)\n",
    "    y_pred = np.nan_to_num(y_pred)\n",
    "    \n",
    "    scores.append(np.nanmean(utils.SMAPE_score(val, y_pred, print_mean=False)))"
   ]
  },
  {
   "cell_type": "code",
   "execution_count": 87,
   "metadata": {},
   "outputs": [
    {
     "data": {
      "text/plain": [
       "[39.813553, 39.702396, 39.724403, 39.74205]"
      ]
     },
     "execution_count": 87,
     "metadata": {},
     "output_type": "execute_result"
    }
   ],
   "source": [
    "scores"
   ]
  },
  {
   "cell_type": "code",
   "execution_count": 92,
   "metadata": {},
   "outputs": [
    {
     "name": "stdout",
     "output_type": "stream",
     "text": [
      "CPU times: user 9.19 s, sys: 2.46 s, total: 11.7 s\n",
      "Wall time: 11.7 s\n"
     ]
    }
   ],
   "source": [
    "%%time\n",
    "y_pred = median_for_each_day_weighted(train, 0.8)"
   ]
  },
  {
   "cell_type": "code",
   "execution_count": 93,
   "metadata": {
    "collapsed": true
   },
   "outputs": [],
   "source": [
    "y_pred = np.nan_to_num(y_pred)\n",
    "y_pred = np.round(y_pred)"
   ]
  },
  {
   "cell_type": "code",
   "execution_count": 94,
   "metadata": {
    "collapsed": true
   },
   "outputs": [],
   "source": [
    "utils.SaveModel(\"median_daily_weighted_0.8\",\n",
    "                y_pred, test,\n",
    "                11, \n",
    "                \"no transformation\",\n",
    "                index.values.reshape(-1))"
   ]
  },
  {
   "cell_type": "markdown",
   "metadata": {},
   "source": [
    "## Neural network"
   ]
  },
  {
   "cell_type": "code",
   "execution_count": 113,
   "metadata": {
    "collapsed": true
   },
   "outputs": [],
   "source": [
    "y_pred = np.load(\"../data/google_wtts/models/lstm/predictions.npy\")"
   ]
  },
  {
   "cell_type": "code",
   "execution_count": 105,
   "metadata": {
    "collapsed": true
   },
   "outputs": [],
   "source": [
    "y_pred = np.nan_to_num(y_pred)\n",
    "y_pred = np.round(y_pred)"
   ]
  },
  {
   "cell_type": "code",
   "execution_count": 106,
   "metadata": {
    "collapsed": true
   },
   "outputs": [],
   "source": [
    "utils.SaveModel(\"lstm_3_layers_skip_coonections\",\n",
    "                y_pred, test,\n",
    "                -1, \n",
    "                \"1 hours, 2 gpu K 80\",\n",
    "                index.values.reshape(-1))"
   ]
  },
  {
   "cell_type": "markdown",
   "metadata": {},
   "source": [
    "## NN + medians"
   ]
  },
  {
   "cell_type": "code",
   "execution_count": null,
   "metadata": {
    "collapsed": true
   },
   "outputs": [],
   "source": [
    "y_pred = np.load(\"../data/google_wtts/models/lstm/predictions.npy\")"
   ]
  },
  {
   "cell_type": "code",
   "execution_count": 114,
   "metadata": {
    "collapsed": true
   },
   "outputs": [],
   "source": [
    "w = create_exp_decay(train.shape[1], 100, 0.92)\n",
    "medians = weighted_median(np.nan_to_num(train), w)"
   ]
  },
  {
   "cell_type": "code",
   "execution_count": 115,
   "metadata": {
    "collapsed": true
   },
   "outputs": [],
   "source": [
    "medians = np.tile(medians, (60, 1)).T"
   ]
  },
  {
   "cell_type": "code",
   "execution_count": 117,
   "metadata": {
    "collapsed": true
   },
   "outputs": [],
   "source": [
    "y_pred = (medians + y_pred) / 2"
   ]
  },
  {
   "cell_type": "code",
   "execution_count": 118,
   "metadata": {
    "collapsed": true
   },
   "outputs": [],
   "source": [
    "y_pred = np.nan_to_num(y_pred)\n",
    "y_pred = np.round(y_pred)"
   ]
  },
  {
   "cell_type": "code",
   "execution_count": 119,
   "metadata": {
    "collapsed": true
   },
   "outputs": [],
   "source": [
    "utils.SaveModel(\"medians+lstm\",\n",
    "                y_pred, test,\n",
    "                -1, \n",
    "                \"1 hours, 2 gpu K 80\",\n",
    "                index.values.reshape(-1))"
   ]
  },
  {
   "cell_type": "markdown",
   "metadata": {},
   "source": [
    "## Check"
   ]
  },
  {
   "cell_type": "code",
   "execution_count": 122,
   "metadata": {
    "collapsed": true
   },
   "outputs": [],
   "source": [
    "info = pd.read_csv(\"../data/google_wtts/models/info.csv\", index_col=\"row_names\")"
   ]
  },
  {
   "cell_type": "code",
   "execution_count": 123,
   "metadata": {},
   "outputs": [
    {
     "data": {
      "text/html": [
       "<div>\n",
       "<style scoped>\n",
       "    .dataframe tbody tr th:only-of-type {\n",
       "        vertical-align: middle;\n",
       "    }\n",
       "\n",
       "    .dataframe tbody tr th {\n",
       "        vertical-align: top;\n",
       "    }\n",
       "\n",
       "    .dataframe thead th {\n",
       "        text-align: right;\n",
       "    }\n",
       "</style>\n",
       "<table border=\"1\" class=\"dataframe\">\n",
       "  <thead>\n",
       "    <tr style=\"text-align: right;\">\n",
       "      <th></th>\n",
       "      <th>nanmean_on_last_4</th>\n",
       "      <th>nanmedian_on_last_16</th>\n",
       "      <th>weighted_median_092_decay</th>\n",
       "      <th>last_elem</th>\n",
       "      <th>median_daily_last_7_weeks</th>\n",
       "      <th>median_daily_weighted_0.8</th>\n",
       "      <th>lstm_3_layers_skip_coonections</th>\n",
       "      <th>medians+lstm</th>\n",
       "      <th>holt_winters</th>\n",
       "    </tr>\n",
       "    <tr>\n",
       "      <th>row_names</th>\n",
       "      <th></th>\n",
       "      <th></th>\n",
       "      <th></th>\n",
       "      <th></th>\n",
       "      <th></th>\n",
       "      <th></th>\n",
       "      <th></th>\n",
       "      <th></th>\n",
       "      <th></th>\n",
       "    </tr>\n",
       "  </thead>\n",
       "  <tbody>\n",
       "    <tr>\n",
       "      <th>SMAPE_full</th>\n",
       "      <td>44.098534</td>\n",
       "      <td>41.988926</td>\n",
       "      <td>41.123295</td>\n",
       "      <td>47.084824</td>\n",
       "      <td>43.167763</td>\n",
       "      <td>42.019257</td>\n",
       "      <td>41.612988</td>\n",
       "      <td>40.42778</td>\n",
       "      <td>NaN</td>\n",
       "    </tr>\n",
       "    <tr>\n",
       "      <th>SMAPE_debug</th>\n",
       "      <td>45.42543</td>\n",
       "      <td>43.83707</td>\n",
       "      <td>43.099163</td>\n",
       "      <td>47.784195</td>\n",
       "      <td>45.236904</td>\n",
       "      <td>44.03532</td>\n",
       "      <td>43.491608</td>\n",
       "      <td>42.200706</td>\n",
       "      <td>53.016304</td>\n",
       "    </tr>\n",
       "    <tr>\n",
       "      <th>SMAPE_zeros</th>\n",
       "      <td>83.7153</td>\n",
       "      <td>79.893036</td>\n",
       "      <td>80.095436</td>\n",
       "      <td>89.68031</td>\n",
       "      <td>83.85385</td>\n",
       "      <td>83.73489</td>\n",
       "      <td>81.80186</td>\n",
       "      <td>79.45347</td>\n",
       "      <td>87.6535616672039</td>\n",
       "    </tr>\n",
       "    <tr>\n",
       "      <th>SMAPE_weekly</th>\n",
       "      <td>32.6446</td>\n",
       "      <td>32.814365</td>\n",
       "      <td>31.780184</td>\n",
       "      <td>33.20075</td>\n",
       "      <td>33.254898</td>\n",
       "      <td>31.605772</td>\n",
       "      <td>32.77792</td>\n",
       "      <td>30.822918</td>\n",
       "      <td>42.27147364711762</td>\n",
       "    </tr>\n",
       "    <tr>\n",
       "      <th>RMLSE_full</th>\n",
       "      <td>0.55380636</td>\n",
       "      <td>0.53083414</td>\n",
       "      <td>0.52150863</td>\n",
       "      <td>0.58512735</td>\n",
       "      <td>0.5425241</td>\n",
       "      <td>0.5287815</td>\n",
       "      <td>0.52981913</td>\n",
       "      <td>0.5148989</td>\n",
       "      <td>NaN</td>\n",
       "    </tr>\n",
       "    <tr>\n",
       "      <th>RMLSE_debug</th>\n",
       "      <td>0.53508455</td>\n",
       "      <td>0.519535</td>\n",
       "      <td>0.51124924</td>\n",
       "      <td>0.5644635</td>\n",
       "      <td>0.5290962</td>\n",
       "      <td>0.5144787</td>\n",
       "      <td>0.5151975</td>\n",
       "      <td>0.5011223</td>\n",
       "      <td>0.65435857</td>\n",
       "    </tr>\n",
       "    <tr>\n",
       "      <th>RMLSE_zeros</th>\n",
       "      <td>0.59686714</td>\n",
       "      <td>0.5654197</td>\n",
       "      <td>0.5635631</td>\n",
       "      <td>0.6525946</td>\n",
       "      <td>0.59278333</td>\n",
       "      <td>0.59011155</td>\n",
       "      <td>0.5789559</td>\n",
       "      <td>0.5602295</td>\n",
       "      <td>0.638990854844451</td>\n",
       "    </tr>\n",
       "    <tr>\n",
       "      <th>RMLSE_weekly</th>\n",
       "      <td>0.4483793</td>\n",
       "      <td>0.44917005</td>\n",
       "      <td>0.43894243</td>\n",
       "      <td>0.45926854</td>\n",
       "      <td>0.4388889</td>\n",
       "      <td>0.41996613</td>\n",
       "      <td>0.44525415</td>\n",
       "      <td>0.42434973</td>\n",
       "      <td>0.6091672253608703</td>\n",
       "    </tr>\n",
       "    <tr>\n",
       "      <th>MASE_full</th>\n",
       "      <td>5.899013</td>\n",
       "      <td>5.7290063</td>\n",
       "      <td>5.6412034</td>\n",
       "      <td>5.9110494</td>\n",
       "      <td>5.8820434</td>\n",
       "      <td>5.7707124</td>\n",
       "      <td>5.624676</td>\n",
       "      <td>5.5887346</td>\n",
       "      <td>NaN</td>\n",
       "    </tr>\n",
       "    <tr>\n",
       "      <th>MASE_debug</th>\n",
       "      <td>1.4655813</td>\n",
       "      <td>1.4092616</td>\n",
       "      <td>1.33806</td>\n",
       "      <td>1.5452392</td>\n",
       "      <td>1.5956097</td>\n",
       "      <td>1.4650066</td>\n",
       "      <td>1.3331968</td>\n",
       "      <td>1.2838961</td>\n",
       "      <td>58.90393</td>\n",
       "    </tr>\n",
       "    <tr>\n",
       "      <th>MASE_zeros</th>\n",
       "      <td>0.61524564</td>\n",
       "      <td>0.5779305</td>\n",
       "      <td>0.57532626</td>\n",
       "      <td>0.66476136</td>\n",
       "      <td>0.61150914</td>\n",
       "      <td>0.6089222</td>\n",
       "      <td>0.60455793</td>\n",
       "      <td>0.5757003</td>\n",
       "      <td>0.6966742448043078</td>\n",
       "    </tr>\n",
       "    <tr>\n",
       "      <th>MASE_weekly</th>\n",
       "      <td>1.7266963</td>\n",
       "      <td>1.7595501</td>\n",
       "      <td>1.6542397</td>\n",
       "      <td>1.7811527</td>\n",
       "      <td>2.057544</td>\n",
       "      <td>1.8795114</td>\n",
       "      <td>1.6858267</td>\n",
       "      <td>1.5867146</td>\n",
       "      <td>7.984838518887758</td>\n",
       "    </tr>\n",
       "    <tr>\n",
       "      <th>time</th>\n",
       "      <td>0.009</td>\n",
       "      <td>0.04</td>\n",
       "      <td>10</td>\n",
       "      <td>0</td>\n",
       "      <td>1.2</td>\n",
       "      <td>11</td>\n",
       "      <td>-1</td>\n",
       "      <td>-1</td>\n",
       "      <td>120 hours</td>\n",
       "    </tr>\n",
       "    <tr>\n",
       "      <th>comments</th>\n",
       "      <td>no transformation</td>\n",
       "      <td>no transformation</td>\n",
       "      <td>no transformation</td>\n",
       "      <td>no transformation</td>\n",
       "      <td>no transformation</td>\n",
       "      <td>no transformation</td>\n",
       "      <td>1 hours, 2 gpu K 80</td>\n",
       "      <td>1 hours, 2 gpu K 80</td>\n",
       "      <td>no transformation</td>\n",
       "    </tr>\n",
       "  </tbody>\n",
       "</table>\n",
       "</div>"
      ],
      "text/plain": [
       "              nanmean_on_last_4 nanmedian_on_last_16  \\\n",
       "row_names                                              \n",
       "SMAPE_full            44.098534            41.988926   \n",
       "SMAPE_debug            45.42543             43.83707   \n",
       "SMAPE_zeros             83.7153            79.893036   \n",
       "SMAPE_weekly            32.6446            32.814365   \n",
       "RMLSE_full           0.55380636           0.53083414   \n",
       "RMLSE_debug          0.53508455             0.519535   \n",
       "RMLSE_zeros          0.59686714            0.5654197   \n",
       "RMLSE_weekly          0.4483793           0.44917005   \n",
       "MASE_full              5.899013            5.7290063   \n",
       "MASE_debug            1.4655813            1.4092616   \n",
       "MASE_zeros           0.61524564            0.5779305   \n",
       "MASE_weekly           1.7266963            1.7595501   \n",
       "time                      0.009                 0.04   \n",
       "comments      no transformation    no transformation   \n",
       "\n",
       "             weighted_median_092_decay          last_elem  \\\n",
       "row_names                                                   \n",
       "SMAPE_full                   41.123295          47.084824   \n",
       "SMAPE_debug                  43.099163          47.784195   \n",
       "SMAPE_zeros                  80.095436           89.68031   \n",
       "SMAPE_weekly                 31.780184           33.20075   \n",
       "RMLSE_full                  0.52150863         0.58512735   \n",
       "RMLSE_debug                 0.51124924          0.5644635   \n",
       "RMLSE_zeros                  0.5635631          0.6525946   \n",
       "RMLSE_weekly                0.43894243         0.45926854   \n",
       "MASE_full                    5.6412034          5.9110494   \n",
       "MASE_debug                     1.33806          1.5452392   \n",
       "MASE_zeros                  0.57532626         0.66476136   \n",
       "MASE_weekly                  1.6542397          1.7811527   \n",
       "time                                10                  0   \n",
       "comments             no transformation  no transformation   \n",
       "\n",
       "             median_daily_last_7_weeks median_daily_weighted_0.8  \\\n",
       "row_names                                                          \n",
       "SMAPE_full                   43.167763                 42.019257   \n",
       "SMAPE_debug                  45.236904                  44.03532   \n",
       "SMAPE_zeros                   83.85385                  83.73489   \n",
       "SMAPE_weekly                 33.254898                 31.605772   \n",
       "RMLSE_full                   0.5425241                 0.5287815   \n",
       "RMLSE_debug                  0.5290962                 0.5144787   \n",
       "RMLSE_zeros                 0.59278333                0.59011155   \n",
       "RMLSE_weekly                 0.4388889                0.41996613   \n",
       "MASE_full                    5.8820434                 5.7707124   \n",
       "MASE_debug                   1.5956097                 1.4650066   \n",
       "MASE_zeros                  0.61150914                 0.6089222   \n",
       "MASE_weekly                   2.057544                 1.8795114   \n",
       "time                               1.2                        11   \n",
       "comments             no transformation         no transformation   \n",
       "\n",
       "             lstm_3_layers_skip_coonections         medians+lstm  \\\n",
       "row_names                                                          \n",
       "SMAPE_full                        41.612988             40.42778   \n",
       "SMAPE_debug                       43.491608            42.200706   \n",
       "SMAPE_zeros                        81.80186             79.45347   \n",
       "SMAPE_weekly                       32.77792            30.822918   \n",
       "RMLSE_full                       0.52981913            0.5148989   \n",
       "RMLSE_debug                       0.5151975            0.5011223   \n",
       "RMLSE_zeros                       0.5789559            0.5602295   \n",
       "RMLSE_weekly                     0.44525415           0.42434973   \n",
       "MASE_full                          5.624676            5.5887346   \n",
       "MASE_debug                        1.3331968            1.2838961   \n",
       "MASE_zeros                       0.60455793            0.5757003   \n",
       "MASE_weekly                       1.6858267            1.5867146   \n",
       "time                                     -1                   -1   \n",
       "comments                1 hours, 2 gpu K 80  1 hours, 2 gpu K 80   \n",
       "\n",
       "                    holt_winters  \n",
       "row_names                         \n",
       "SMAPE_full                   NaN  \n",
       "SMAPE_debug            53.016304  \n",
       "SMAPE_zeros     87.6535616672039  \n",
       "SMAPE_weekly   42.27147364711762  \n",
       "RMLSE_full                   NaN  \n",
       "RMLSE_debug           0.65435857  \n",
       "RMLSE_zeros    0.638990854844451  \n",
       "RMLSE_weekly  0.6091672253608703  \n",
       "MASE_full                    NaN  \n",
       "MASE_debug              58.90393  \n",
       "MASE_zeros    0.6966742448043078  \n",
       "MASE_weekly    7.984838518887758  \n",
       "time                   120 hours  \n",
       "comments       no transformation  "
      ]
     },
     "execution_count": 123,
     "metadata": {},
     "output_type": "execute_result"
    }
   ],
   "source": [
    "info"
   ]
  },
  {
   "cell_type": "code",
   "execution_count": null,
   "metadata": {
    "collapsed": true
   },
   "outputs": [],
   "source": []
  }
 ],
 "metadata": {
  "kernelspec": {
   "display_name": "Python 3",
   "language": "python",
   "name": "python3"
  },
  "language_info": {
   "codemirror_mode": {
    "name": "ipython",
    "version": 3
   },
   "file_extension": ".py",
   "mimetype": "text/x-python",
   "name": "python",
   "nbconvert_exporter": "python",
   "pygments_lexer": "ipython3",
   "version": "3.7.1"
  },
  "toc": {
   "base_numbering": 1,
   "nav_menu": {},
   "number_sections": true,
   "sideBar": true,
   "skip_h1_title": false,
   "title_cell": "Table of Contents",
   "title_sidebar": "Contents",
   "toc_cell": false,
   "toc_position": {},
   "toc_section_display": true,
   "toc_window_display": false
  }
 },
 "nbformat": 4,
 "nbformat_minor": 2
}
