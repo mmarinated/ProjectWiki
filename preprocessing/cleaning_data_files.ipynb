{
 "cells": [
  {
   "cell_type": "code",
   "execution_count": 49,
   "metadata": {
    "collapsed": true
   },
   "outputs": [],
   "source": [
    "import pandas as pd\n",
    "import numpy as np\n",
    "\n",
    "import matplotlib.pylab as plt\n",
    "%matplotlib inline\n",
    "\n",
    "plt.rcParams['figure.figsize'] = (10, 6)\n",
    "\n",
    "import utils\n",
    "import importlib"
   ]
  },
  {
   "cell_type": "code",
   "execution_count": 1,
   "metadata": {},
   "outputs": [],
   "source": [
    "#importlib.reload(utils)"
   ]
  },
  {
   "cell_type": "code",
   "execution_count": 51,
   "metadata": {},
   "outputs": [
    {
     "name": "stdout",
     "output_type": "stream",
     "text": [
      "backup\tdebug2\t      models  train_big\t\t train_old\r\n",
      "debug1\tintermediate  test    train_big_cleaned\r\n"
     ]
    }
   ],
   "source": [
    "PATH = \"../data/google_wtts/\"\n",
    "!ls ../data/google_wtts/"
   ]
  },
  {
   "cell_type": "code",
   "execution_count": 52,
   "metadata": {},
   "outputs": [
    {
     "name": "stdout",
     "output_type": "stream",
     "text": [
      "fibonachi_medians     lstm\t\t\t nanmedian_on_last_16\r\n",
      "index_many_zeros.npy  median_daily_last_7_weeks  scores.csv\r\n",
      "index_weekly.npy      nanmean_last_50\t\t test\r\n",
      "info.csv\t      nanmean_on_last_4\t\t weighted_median_092_decay\r\n",
      "last_elem\t      nanmedian_last_50\r\n"
     ]
    }
   ],
   "source": [
    "!ls ../data/google_wtts/models/"
   ]
  },
  {
   "cell_type": "markdown",
   "metadata": {},
   "source": [
    "## train_big \n",
    "\n",
    "last 60 days go to test"
   ]
  },
  {
   "cell_type": "code",
   "execution_count": 143,
   "metadata": {
    "collapsed": true
   },
   "outputs": [],
   "source": [
    "train = pd.read_csv(PATH + \"backup/train.csv\")\n",
    "\n",
    "\n",
    "index = pd.DataFrame(train.index, columns=[\"Index\"])\n",
    "\n",
    "index.to_csv(PATH + \"backup/index.csv\", index=None)\n",
    "\n",
    "index.to_csv(PATH + \"test/index.csv\", index=None)\n",
    "index.to_csv(PATH + \"train_big/index.csv\", index=None)"
   ]
  },
  {
   "cell_type": "code",
   "execution_count": 129,
   "metadata": {
    "collapsed": true
   },
   "outputs": [],
   "source": [
    "test = train[train.columns[-60:]]\n",
    "train = train[train.columns[:-60]]\n",
    "\n",
    "info = utils.ParseSitesNames(train)\n",
    "train = train[train.columns[1:]]\n",
    "\n",
    "\n",
    "train.to_csv(PATH + \"train_big/train.csv\", index=None)\n",
    "info.to_csv(PATH + \"train_big/info.csv\", index=None)\n",
    "test.to_csv(PATH + \"train_big/test.csv\", index=None)"
   ]
  },
  {
   "cell_type": "markdown",
   "metadata": {},
   "source": [
    "## test"
   ]
  },
  {
   "cell_type": "code",
   "execution_count": 140,
   "metadata": {
    "collapsed": true
   },
   "outputs": [],
   "source": [
    "train = pd.read_csv(PATH + \"backup/train.csv\")\n",
    "\n",
    "info = utils.ParseSitesNames(train)\n",
    "train = train[train.columns[1:]]\n",
    "\n",
    "\n",
    "train.to_csv(PATH + \"test/train.csv\", index=None)\n",
    "info.to_csv(PATH + \"test/info.csv\", index=None)"
   ]
  },
  {
   "cell_type": "markdown",
   "metadata": {},
   "source": [
    "## train_big_cleaned"
   ]
  },
  {
   "cell_type": "code",
   "execution_count": 16,
   "metadata": {
    "collapsed": true
   },
   "outputs": [],
   "source": [
    "train = pd.read_csv(PATH + \"backup/train.csv\")\n",
    "\n",
    "test = train[train.columns[-60:]]\n",
    "train = train[train.columns[:-60]]\n",
    "\n",
    "info = utils.ParseSitesNames(train)\n",
    "train = train[train.columns[1:]]"
   ]
  },
  {
   "cell_type": "code",
   "execution_count": 17,
   "metadata": {
    "collapsed": true
   },
   "outputs": [],
   "source": [
    "train = train.fillna(method='ffill', axis=1)"
   ]
  },
  {
   "cell_type": "code",
   "execution_count": 24,
   "metadata": {
    "collapsed": true
   },
   "outputs": [],
   "source": [
    "to_fill = np.expm1(np.nanmean(np.log1p(train.values), axis=1))"
   ]
  },
  {
   "cell_type": "code",
   "execution_count": 35,
   "metadata": {
    "collapsed": true
   },
   "outputs": [],
   "source": [
    "to_fill = pd.Series(to_fill)"
   ]
  },
  {
   "cell_type": "code",
   "execution_count": 36,
   "metadata": {
    "collapsed": true
   },
   "outputs": [],
   "source": [
    "train = train.T.fillna(to_fill).T"
   ]
  },
  {
   "cell_type": "code",
   "execution_count": 37,
   "metadata": {},
   "outputs": [
    {
     "data": {
      "text/plain": [
       "array([2.95396855, 3.07874737, 1.4808149 , ..., 3.31495373, 2.44768489,\n",
       "       2.87504885])"
      ]
     },
     "execution_count": 37,
     "metadata": {},
     "output_type": "execute_result"
    }
   ],
   "source": [
    "np.mean(np.log1p(train.values), axis=1)"
   ]
  },
  {
   "cell_type": "code",
   "execution_count": 44,
   "metadata": {},
   "outputs": [
    {
     "data": {
      "text/plain": [
       "[<matplotlib.lines.Line2D at 0x7f0570b97908>]"
      ]
     },
     "execution_count": 44,
     "metadata": {},
     "output_type": "execute_result"
    },
    {
     "data": {
      "image/png": "[encoded data removed]",
      "text/plain": [
       "<matplotlib.figure.Figure at 0x7f05667f8400>"
      ]
     },
     "metadata": {},
     "output_type": "display_data"
    }
   ],
   "source": [
    "x = train.values[145058]\n",
    "x = np.log1p(x)\n",
    "x -= x.mean()\n",
    "plt.plot(x)"
   ]
  },
  {
   "cell_type": "code",
   "execution_count": 47,
   "metadata": {
    "collapsed": true
   },
   "outputs": [],
   "source": [
    "! mkdir ../data/google_wtts/train_big_cleaned"
   ]
  },
  {
   "cell_type": "code",
   "execution_count": 48,
   "metadata": {
    "collapsed": true
   },
   "outputs": [],
   "source": [
    "train.to_csv(PATH + \"train_big_cleaned/train.csv\", index=None)\n",
    "info.to_csv(PATH + \"train_big_cleaned/info.csv\", index=None)\n",
    "test.to_csv(PATH + \"train_big_cleaned/test.csv\", index=None)\n",
    "\n",
    "index = pd.DataFrame(train.index, columns=[\"Index\"])\n",
    "index.to_csv(PATH + \"train_big_cleaned/index.csv\", index=None)"
   ]
  },
  {
   "cell_type": "markdown",
   "metadata": {},
   "source": [
    "# Check "
   ]
  },
  {
   "cell_type": "code",
   "execution_count": 65,
   "metadata": {
    "collapsed": true
   },
   "outputs": [],
   "source": [
    "train, test, info, key = utils.ReadData(\"train_big\")"
   ]
  },
  {
   "cell_type": "code",
   "execution_count": 68,
   "metadata": {
    "scrolled": true
   },
   "outputs": [
    {
     "data": {
      "text/html": [
       "<div>\n",
       "<style scoped>\n",
       "    .dataframe tbody tr th:only-of-type {\n",
       "        vertical-align: middle;\n",
       "    }\n",
       "\n",
       "    .dataframe tbody tr th {\n",
       "        vertical-align: top;\n",
       "    }\n",
       "\n",
       "    .dataframe thead th {\n",
       "        text-align: right;\n",
       "    }\n",
       "</style>\n",
       "<table border=\"1\" class=\"dataframe\">\n",
       "  <thead>\n",
       "    <tr style=\"text-align: right;\">\n",
       "      <th></th>\n",
       "      <th>2015-07-01</th>\n",
       "      <th>2015-07-02</th>\n",
       "      <th>2015-07-03</th>\n",
       "      <th>2015-07-04</th>\n",
       "      <th>2015-07-05</th>\n",
       "      <th>2015-07-06</th>\n",
       "      <th>2015-07-07</th>\n",
       "      <th>2015-07-08</th>\n",
       "      <th>2015-07-09</th>\n",
       "      <th>2015-07-10</th>\n",
       "      <th>...</th>\n",
       "      <th>2017-07-03</th>\n",
       "      <th>2017-07-04</th>\n",
       "      <th>2017-07-05</th>\n",
       "      <th>2017-07-06</th>\n",
       "      <th>2017-07-07</th>\n",
       "      <th>2017-07-08</th>\n",
       "      <th>2017-07-09</th>\n",
       "      <th>2017-07-10</th>\n",
       "      <th>2017-07-11</th>\n",
       "      <th>2017-07-12</th>\n",
       "    </tr>\n",
       "  </thead>\n",
       "  <tbody>\n",
       "    <tr>\n",
       "      <th>0</th>\n",
       "      <td>18.0</td>\n",
       "      <td>11.0</td>\n",
       "      <td>5.0</td>\n",
       "      <td>13.0</td>\n",
       "      <td>14.0</td>\n",
       "      <td>9.0</td>\n",
       "      <td>9.0</td>\n",
       "      <td>22.0</td>\n",
       "      <td>26.0</td>\n",
       "      <td>24.0</td>\n",
       "      <td>...</td>\n",
       "      <td>26.0</td>\n",
       "      <td>15.0</td>\n",
       "      <td>14.0</td>\n",
       "      <td>15.0</td>\n",
       "      <td>19.0</td>\n",
       "      <td>29.0</td>\n",
       "      <td>22.0</td>\n",
       "      <td>25.0</td>\n",
       "      <td>20.0</td>\n",
       "      <td>19.0</td>\n",
       "    </tr>\n",
       "    <tr>\n",
       "      <th>1</th>\n",
       "      <td>11.0</td>\n",
       "      <td>14.0</td>\n",
       "      <td>15.0</td>\n",
       "      <td>18.0</td>\n",
       "      <td>11.0</td>\n",
       "      <td>13.0</td>\n",
       "      <td>22.0</td>\n",
       "      <td>11.0</td>\n",
       "      <td>10.0</td>\n",
       "      <td>4.0</td>\n",
       "      <td>...</td>\n",
       "      <td>16.0</td>\n",
       "      <td>23.0</td>\n",
       "      <td>19.0</td>\n",
       "      <td>16.0</td>\n",
       "      <td>816.0</td>\n",
       "      <td>20.0</td>\n",
       "      <td>76.0</td>\n",
       "      <td>24.0</td>\n",
       "      <td>15.0</td>\n",
       "      <td>12.0</td>\n",
       "    </tr>\n",
       "    <tr>\n",
       "      <th>2</th>\n",
       "      <td>1.0</td>\n",
       "      <td>0.0</td>\n",
       "      <td>1.0</td>\n",
       "      <td>1.0</td>\n",
       "      <td>0.0</td>\n",
       "      <td>4.0</td>\n",
       "      <td>0.0</td>\n",
       "      <td>3.0</td>\n",
       "      <td>4.0</td>\n",
       "      <td>4.0</td>\n",
       "      <td>...</td>\n",
       "      <td>7.0</td>\n",
       "      <td>1.0</td>\n",
       "      <td>1.0</td>\n",
       "      <td>1.0</td>\n",
       "      <td>10.0</td>\n",
       "      <td>1.0</td>\n",
       "      <td>2.0</td>\n",
       "      <td>6.0</td>\n",
       "      <td>5.0</td>\n",
       "      <td>1.0</td>\n",
       "    </tr>\n",
       "    <tr>\n",
       "      <th>3</th>\n",
       "      <td>35.0</td>\n",
       "      <td>13.0</td>\n",
       "      <td>10.0</td>\n",
       "      <td>94.0</td>\n",
       "      <td>4.0</td>\n",
       "      <td>26.0</td>\n",
       "      <td>14.0</td>\n",
       "      <td>9.0</td>\n",
       "      <td>11.0</td>\n",
       "      <td>16.0</td>\n",
       "      <td>...</td>\n",
       "      <td>16.0</td>\n",
       "      <td>10.0</td>\n",
       "      <td>17.0</td>\n",
       "      <td>15.0</td>\n",
       "      <td>22.0</td>\n",
       "      <td>6.0</td>\n",
       "      <td>6.0</td>\n",
       "      <td>18.0</td>\n",
       "      <td>12.0</td>\n",
       "      <td>16.0</td>\n",
       "    </tr>\n",
       "    <tr>\n",
       "      <th>4</th>\n",
       "      <td>NaN</td>\n",
       "      <td>NaN</td>\n",
       "      <td>NaN</td>\n",
       "      <td>NaN</td>\n",
       "      <td>NaN</td>\n",
       "      <td>NaN</td>\n",
       "      <td>NaN</td>\n",
       "      <td>NaN</td>\n",
       "      <td>NaN</td>\n",
       "      <td>NaN</td>\n",
       "      <td>...</td>\n",
       "      <td>6.0</td>\n",
       "      <td>16.0</td>\n",
       "      <td>18.0</td>\n",
       "      <td>12.0</td>\n",
       "      <td>14.0</td>\n",
       "      <td>11.0</td>\n",
       "      <td>16.0</td>\n",
       "      <td>15.0</td>\n",
       "      <td>9.0</td>\n",
       "      <td>12.0</td>\n",
       "    </tr>\n",
       "  </tbody>\n",
       "</table>\n",
       "<p>5 rows × 743 columns</p>\n",
       "</div>"
      ],
      "text/plain": [
       "   2015-07-01  2015-07-02  2015-07-03  2015-07-04  2015-07-05  2015-07-06  \\\n",
       "0        18.0        11.0         5.0        13.0        14.0         9.0   \n",
       "1        11.0        14.0        15.0        18.0        11.0        13.0   \n",
       "2         1.0         0.0         1.0         1.0         0.0         4.0   \n",
       "3        35.0        13.0        10.0        94.0         4.0        26.0   \n",
       "4         NaN         NaN         NaN         NaN         NaN         NaN   \n",
       "\n",
       "   2015-07-07  2015-07-08  2015-07-09  2015-07-10     ...      2017-07-03  \\\n",
       "0         9.0        22.0        26.0        24.0     ...            26.0   \n",
       "1        22.0        11.0        10.0         4.0     ...            16.0   \n",
       "2         0.0         3.0         4.0         4.0     ...             7.0   \n",
       "3        14.0         9.0        11.0        16.0     ...            16.0   \n",
       "4         NaN         NaN         NaN         NaN     ...             6.0   \n",
       "\n",
       "   2017-07-04  2017-07-05  2017-07-06  2017-07-07  2017-07-08  2017-07-09  \\\n",
       "0        15.0        14.0        15.0        19.0        29.0        22.0   \n",
       "1        23.0        19.0        16.0       816.0        20.0        76.0   \n",
       "2         1.0         1.0         1.0        10.0         1.0         2.0   \n",
       "3        10.0        17.0        15.0        22.0         6.0         6.0   \n",
       "4        16.0        18.0        12.0        14.0        11.0        16.0   \n",
       "\n",
       "   2017-07-10  2017-07-11  2017-07-12  \n",
       "0        25.0        20.0        19.0  \n",
       "1        24.0        15.0        12.0  \n",
       "2         6.0         5.0         1.0  \n",
       "3        18.0        12.0        16.0  \n",
       "4        15.0         9.0        12.0  \n",
       "\n",
       "[5 rows x 743 columns]"
      ]
     },
     "execution_count": 68,
     "metadata": {},
     "output_type": "execute_result"
    }
   ],
   "source": [
    "train.head()"
   ]
  },
  {
   "cell_type": "markdown",
   "metadata": {},
   "source": [
    "## debug1  (1% of all data)"
   ]
  },
  {
   "cell_type": "code",
   "execution_count": 121,
   "metadata": {
    "collapsed": true
   },
   "outputs": [],
   "source": [
    "train = pd.read_csv(PATH + \"backup/train.csv\")\n",
    "\n",
    "new_size = 1500\n",
    "\n",
    "train = train.sample(new_size)\n",
    "\n",
    "index = pd.DataFrame(train.index, columns=[\"Index\"])\n",
    "\n",
    "test = train[train.columns[-60:]]\n",
    "train = train[train.columns[:-60]]\n",
    "\n",
    "info = utils.ParseSitesNames(train)\n",
    "train = train[train.columns[1:]]\n",
    "\n",
    "train.to_csv(PATH + \"debug1/train.csv\", index=None)\n",
    "info.to_csv(PATH + \"debug1/info.csv\", index=None)\n",
    "test.to_csv(PATH + \"debug1/test.csv\", index=None)\n",
    "index.to_csv(PATH + \"debug1/index.csv\", index=None)"
   ]
  },
  {
   "cell_type": "markdown",
   "metadata": {},
   "source": [
    "## debug2  (2% of all data)"
   ]
  },
  {
   "cell_type": "code",
   "execution_count": 125,
   "metadata": {
    "collapsed": true
   },
   "outputs": [],
   "source": [
    "train = pd.read_csv(PATH + \"backup/train.csv\")\n",
    "\n",
    "new_size = 3000\n",
    "\n",
    "train = train.sample(new_size)\n",
    "\n",
    "index = pd.DataFrame(train.index, columns=[\"Index\"])\n",
    "\n",
    "\n",
    "test = train[train.columns[-60:]]\n",
    "train = train[train.columns[:-60]]\n",
    "\n",
    "info = utils.ParseSitesNames(train)\n",
    "train = train[train.columns[1:]]\n",
    "\n",
    "train.to_csv(PATH + \"debug2/train.csv\", index=None)\n",
    "info.to_csv(PATH + \"debug2/info.csv\", index=None)\n",
    "test.to_csv(PATH + \"debug2/test.csv\", index=None)\n",
    "index.to_csv(PATH + \"debug2/index.csv\", index=None)"
   ]
  },
  {
   "cell_type": "code",
   "execution_count": null,
   "metadata": {
    "collapsed": true
   },
   "outputs": [],
   "source": []
  },
  {
   "cell_type": "markdown",
   "metadata": {},
   "source": [
    "##  final_debug"
   ]
  },
  {
   "cell_type": "code",
   "execution_count": null,
   "metadata": {
    "collapsed": true
   },
   "outputs": [],
   "source": [
    "train = pd.read_csv(\"../data/google_wtts/train_big_cleaned/train.csv\")"
   ]
  },
  {
   "cell_type": "code",
   "execution_count": 104,
   "metadata": {
    "collapsed": true
   },
   "outputs": [],
   "source": [
    "info = pd.read_csv(\"../data/google_wtts/train_big_cleaned/info.csv\")\n",
    "test = pd.read_csv(\"../data/google_wtts/train_big_cleaned/test.csv\")\n"
   ]
  },
  {
   "cell_type": "code",
   "execution_count": 67,
   "metadata": {},
   "outputs": [],
   "source": [
    "many_zeros = np.load('../data/google_wtts/models/index_many_zeros.npy')\n",
    "index_weekly = np.load('../data/google_wtts/models/index_weekly.npy')\n",
    "\n",
    "many_zeros = np.random.choice(many_zeros, 200, replace=False)\n",
    "index_weekly = np.random.choice(index_weekly, 500, replace=False)"
   ]
  },
  {
   "cell_type": "code",
   "execution_count": null,
   "metadata": {
    "collapsed": true
   },
   "outputs": [],
   "source": []
  },
  {
   "cell_type": "code",
   "execution_count": 92,
   "metadata": {},
   "outputs": [],
   "source": [
    "index_random = train.sample(1330).index"
   ]
  },
  {
   "cell_type": "code",
   "execution_count": 93,
   "metadata": {},
   "outputs": [],
   "source": [
    "final_index = np.concatenate((many_zeros, index_weekly, index_random.values))"
   ]
  },
  {
   "cell_type": "code",
   "execution_count": 95,
   "metadata": {},
   "outputs": [],
   "source": [
    "final_index = list(set(final_index))[:2000]\n",
    "final_index = np.array(final_index)\n",
    "final_index = np.sort(final_index)"
   ]
  },
  {
   "cell_type": "code",
   "execution_count": 103,
   "metadata": {},
   "outputs": [],
   "source": [
    "train = train.iloc[final_index]"
   ]
  },
  {
   "cell_type": "code",
   "execution_count": 107,
   "metadata": {},
   "outputs": [],
   "source": [
    "info = info.iloc[final_index]"
   ]
  },
  {
   "cell_type": "code",
   "execution_count": 108,
   "metadata": {
    "collapsed": true
   },
   "outputs": [],
   "source": [
    "test = test.iloc[final_index]"
   ]
  },
  {
   "cell_type": "code",
   "execution_count": 111,
   "metadata": {
    "collapsed": true
   },
   "outputs": [],
   "source": [
    "index = pd.DataFrame(final_index)"
   ]
  },
  {
   "cell_type": "code",
   "execution_count": 113,
   "metadata": {
    "collapsed": true
   },
   "outputs": [],
   "source": [
    "%mkdir ../data/google_wtts/debug3"
   ]
  },
  {
   "cell_type": "code",
   "execution_count": null,
   "metadata": {
    "collapsed": true
   },
   "outputs": [],
   "source": [
    "train.to_csv(PATH + \"debug3/train.csv\", index=None)\n",
    "info.to_csv(PATH + \"debug3/info.csv\", index=None)\n",
    "test.to_csv(PATH + \"debug3/test.csv\", index=None)\n",
    "index.to_csv(PATH + \"debug3/index.csv\", index=None)"
   ]
  },
  {
   "cell_type": "code",
   "execution_count": null,
   "metadata": {
    "collapsed": true
   },
   "outputs": [],
   "source": []
  },
  {
   "cell_type": "code",
   "execution_count": 117,
   "metadata": {},
   "outputs": [],
   "source": [
    "np.save(\"../data/google_wtts/zeros_index_for_score\", many_zeros)"
   ]
  },
  {
   "cell_type": "code",
   "execution_count": 118,
   "metadata": {
    "collapsed": true
   },
   "outputs": [],
   "source": [
    "np.save(\"../data/google_wtts/weekly_index_for_score\", index_weekly)"
   ]
  },
  {
   "cell_type": "code",
   "execution_count": null,
   "metadata": {
    "collapsed": true
   },
   "outputs": [],
   "source": []
  }
 ],
 "metadata": {
  "kernelspec": {
   "display_name": "Python 3",
   "language": "python",
   "name": "python3"
  },
  "language_info": {
   "codemirror_mode": {
    "name": "ipython",
    "version": 3
   },
   "file_extension": ".py",
   "mimetype": "text/x-python",
   "name": "python",
   "nbconvert_exporter": "python",
   "pygments_lexer": "ipython3",
   "version": "3.7.1"
  },
  "toc": {
   "base_numbering": 1,
   "nav_menu": {},
   "number_sections": true,
   "sideBar": true,
   "skip_h1_title": false,
   "title_cell": "Table of Contents",
   "title_sidebar": "Contents",
   "toc_cell": false,
   "toc_position": {},
   "toc_section_display": true,
   "toc_window_display": false
  }
 },
 "nbformat": 4,
 "nbformat_minor": 2
}
