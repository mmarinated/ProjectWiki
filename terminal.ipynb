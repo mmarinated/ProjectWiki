{
 "cells": [
  {
   "cell_type": "code",
   "execution_count": 1,
   "metadata": {
    "collapsed": true
   },
   "outputs": [],
   "source": [
    "! mv models/ ../data/google_wtts/models"
   ]
  },
  {
   "cell_type": "code",
   "execution_count": 2,
   "metadata": {
    "collapsed": true
   },
   "outputs": [],
   "source": [
    "import pandas as pd"
   ]
  },
  {
   "cell_type": "code",
   "execution_count": 7,
   "metadata": {},
   "outputs": [],
   "source": [
    "info = pd.read_csv(\"../data/google_wtts/models/info.csv\", index_col=\"row_names\")"
   ]
  },
  {
   "cell_type": "code",
   "execution_count": 8,
   "metadata": {},
   "outputs": [
    {
     "data": {
      "text/html": [
       "<div>\n",
       "<style scoped>\n",
       "    .dataframe tbody tr th:only-of-type {\n",
       "        vertical-align: middle;\n",
       "    }\n",
       "\n",
       "    .dataframe tbody tr th {\n",
       "        vertical-align: top;\n",
       "    }\n",
       "\n",
       "    .dataframe thead th {\n",
       "        text-align: right;\n",
       "    }\n",
       "</style>\n",
       "<table border=\"1\" class=\"dataframe\">\n",
       "  <thead>\n",
       "    <tr style=\"text-align: right;\">\n",
       "      <th></th>\n",
       "      <th>nanmedian_last_50</th>\n",
       "      <th>nanmean_on_last_4</th>\n",
       "      <th>nanmedian_on_last_16</th>\n",
       "      <th>fibonachi_medians</th>\n",
       "      <th>weighted_median_092_decay</th>\n",
       "      <th>last_elem</th>\n",
       "      <th>median_daily_last_7_weeks</th>\n",
       "    </tr>\n",
       "    <tr>\n",
       "      <th>row_names</th>\n",
       "      <th></th>\n",
       "      <th></th>\n",
       "      <th></th>\n",
       "      <th></th>\n",
       "      <th></th>\n",
       "      <th></th>\n",
       "      <th></th>\n",
       "    </tr>\n",
       "  </thead>\n",
       "  <tbody>\n",
       "    <tr>\n",
       "      <th>full_score</th>\n",
       "      <td>47.737576</td>\n",
       "      <td>42.998234</td>\n",
       "      <td>42.049915</td>\n",
       "      <td>39.818897</td>\n",
       "      <td>39.185513</td>\n",
       "      <td>45.490627</td>\n",
       "      <td>41.278637</td>\n",
       "    </tr>\n",
       "    <tr>\n",
       "      <th>debug_score</th>\n",
       "      <td>45.80678</td>\n",
       "      <td>42.275032</td>\n",
       "      <td>41.354053</td>\n",
       "      <td>39.09841</td>\n",
       "      <td>38.371925</td>\n",
       "      <td>45.037254</td>\n",
       "      <td>40.555374</td>\n",
       "    </tr>\n",
       "    <tr>\n",
       "      <th>time</th>\n",
       "      <td>0.5</td>\n",
       "      <td>0.009</td>\n",
       "      <td>0.04</td>\n",
       "      <td>240</td>\n",
       "      <td>10</td>\n",
       "      <td>0</td>\n",
       "      <td>1.2</td>\n",
       "    </tr>\n",
       "    <tr>\n",
       "      <th>comments</th>\n",
       "      <td>some comment</td>\n",
       "      <td>no transformation</td>\n",
       "      <td>no transformation</td>\n",
       "      <td>fill with zeros</td>\n",
       "      <td>no transformation</td>\n",
       "      <td>no transformation</td>\n",
       "      <td>no transformation</td>\n",
       "    </tr>\n",
       "  </tbody>\n",
       "</table>\n",
       "</div>"
      ],
      "text/plain": [
       "            nanmedian_last_50  nanmean_on_last_4 nanmedian_on_last_16  \\\n",
       "row_names                                                               \n",
       "full_score          47.737576          42.998234            42.049915   \n",
       "debug_score          45.80678          42.275032            41.354053   \n",
       "time                      0.5              0.009                 0.04   \n",
       "comments         some comment  no transformation    no transformation   \n",
       "\n",
       "            fibonachi_medians weighted_median_092_decay          last_elem  \\\n",
       "row_names                                                                    \n",
       "full_score          39.818897                 39.185513          45.490627   \n",
       "debug_score          39.09841                 38.371925          45.037254   \n",
       "time                      240                        10                  0   \n",
       "comments      fill with zeros         no transformation  no transformation   \n",
       "\n",
       "            median_daily_last_7_weeks  \n",
       "row_names                              \n",
       "full_score                  41.278637  \n",
       "debug_score                 40.555374  \n",
       "time                              1.2  \n",
       "comments            no transformation  "
      ]
     },
     "execution_count": 8,
     "metadata": {},
     "output_type": "execute_result"
    }
   ],
   "source": [
    "info"
   ]
  },
  {
   "cell_type": "code",
   "execution_count": 9,
   "metadata": {
    "collapsed": true
   },
   "outputs": [],
   "source": [
    "info.to_csv(\"../data/google_wtts/models/info_old.csv\", index=None)"
   ]
  },
  {
   "cell_type": "code",
   "execution_count": 11,
   "metadata": {},
   "outputs": [],
   "source": [
    "info = pd.DataFrame(data=[\"SMAPE_full\", \"SMAPE_debug\", \"SMAPE_zeros\", \"SMAPE_weekly\",\n",
    "                         \"RMLSE_full\", \"RMLSE_debug\", \"RMLSE_zeros\", \"RMLSE_weekly\",\n",
    "                         \"MASE_full\", \"MASE_debug\", \"MASE_zeros\", \"MASE_weekly\",\n",
    "                         \"time\", \"comments\"], columns=[\"row_names\"])"
   ]
  },
  {
   "cell_type": "code",
   "execution_count": null,
   "metadata": {
    "collapsed": true
   },
   "outputs": [],
   "source": []
  },
  {
   "cell_type": "code",
   "execution_count": 13,
   "metadata": {},
   "outputs": [],
   "source": [
    "info.to_csv(\"../data/google_wtts/models/info.csv\", index=None)"
   ]
  },
  {
   "cell_type": "code",
   "execution_count": null,
   "metadata": {
    "collapsed": true
   },
   "outputs": [],
   "source": []
  }
 ],
 "metadata": {
  "kernelspec": {
   "display_name": "Python 3",
   "language": "python",
   "name": "python3"
  },
  "language_info": {
   "codemirror_mode": {
    "name": "ipython",
    "version": 3
   },
   "file_extension": ".py",
   "mimetype": "text/x-python",
   "name": "python",
   "nbconvert_exporter": "python",
   "pygments_lexer": "ipython3",
   "version": "3.6.2"
  }
 },
 "nbformat": 4,
 "nbformat_minor": 2
}
